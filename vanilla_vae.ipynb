{
 "cells": [
  {
   "cell_type": "code",
   "execution_count": 1,
   "metadata": {},
   "outputs": [],
   "source": [
    "import torch\n",
    "import os\n",
    "import numpy as np\n",
    "from torch.optim.lr_scheduler import ExponentialLR\n",
    "from utils.func_utils import normal_kl, gen_data, vae_loss\n",
    "from model import VAE\n",
    "from tqdm import tqdm_notebook\n",
    "import matplotlib.pyplot as plt\n",
    "%matplotlib inline\n",
    "%load_ext autoreload\n",
    "%autoreload 2"
   ]
  },
  {
   "cell_type": "code",
   "execution_count": 2,
   "metadata": {
    "scrolled": false
   },
   "outputs": [
    {
     "data": {
      "application/vnd.jupyter.widget-view+json": {
       "model_id": "49487ca8adee4331b019483cb3f227f3",
       "version_major": 2,
       "version_minor": 0
      },
      "text/plain": [
       "A Jupyter Widget"
      ]
     },
     "metadata": {},
     "output_type": "display_data"
    },
    {
     "name": "stdout",
     "output_type": "stream",
     "text": [
      "\n"
     ]
    }
   ],
   "source": [
    "n_steps = 500\n",
    "test_loader, train_loader = gen_data(batch_size=512) \n",
    "\n",
    "base_vae = VAE(784, 50, 1024)\n",
    "base_vae.cuda(1)\n",
    "optimizer = torch.optim.Adam(base_vae.parameters(), lr=0.001)\n",
    "lr_sheduler = ExponentialLR(optimizer, 0.96**(-1/1000) )\n",
    "elbo_ =[]\n",
    "\n",
    "for i in  tqdm_notebook(range(n_steps)):\n",
    "    lr_sheduler.step()    \n",
    "    for x in train_loader:\n",
    "        x = x[0].cuda(1)\n",
    "        logits, mu, log_sigma = base_vae(x)\n",
    "        elbo = vae_loss(mu.cpu(), log_sigma.cpu(), logits.cpu(), x.cpu())\n",
    "        elbo_.append(elbo.data)\n",
    "        optimizer.zero_grad()\n",
    "        elbo.backward()\n",
    "        optimizer.step()"
   ]
  },
  {
   "cell_type": "code",
   "execution_count": 27,
   "metadata": {},
   "outputs": [
    {
     "data": {
      "image/png": "[encoded data removed]",
      "text/plain": [
       "<matplotlib.figure.Figure at 0x7f516804ff60>"
      ]
     },
     "metadata": {},
     "output_type": "display_data"
    }
   ],
   "source": [
    "base_vae.cpu()\n",
    "fig, ax = plt.subplots(4,5,figsize=(10,8))\n",
    "for i in range(20):\n",
    "    s = base_vae.sample(torch.randn((1, 50)))\n",
    "    ax[i//5, i%5].imshow(np.array(s.data.cpu()).reshape(28,28), cmap='gray_r')\n",
    "    ax[i//5, i%5].set_xticks([])\n",
    "    ax[i//5, i%5].set_yticks([]);\n",
    "plt.subplots_adjust(wspace=0.0005, hspace=0.01)"
   ]
  },
  {
   "cell_type": "code",
   "execution_count": 28,
   "metadata": {
    "collapsed": true
   },
   "outputs": [],
   "source": [
    "fig.savefig('vanilla_vae.png',bbox_inches='tight')"
   ]
  },
  {
   "cell_type": "code",
   "execution_count": null,
   "metadata": {
    "collapsed": true
   },
   "outputs": [],
   "source": []
  }
 ],
 "metadata": {
  "hide_input": false,
  "kernelspec": {
   "display_name": "Python 3",
   "language": "python",
   "name": "python3"
  },
  "language_info": {
   "codemirror_mode": {
    "name": "ipython",
    "version": 3
   },
   "file_extension": ".py",
   "mimetype": "text/x-python",
   "name": "python",
   "nbconvert_exporter": "python",
   "pygments_lexer": "ipython3",
   "version": "3.6.3"
  },
  "toc": {
   "nav_menu": {},
   "number_sections": true,
   "sideBar": true,
   "skip_h1_title": false,
   "toc_cell": false,
   "toc_position": {},
   "toc_section_display": "block",
   "toc_window_display": false
  },
  "varInspector": {
   "cols": {
    "lenName": 16,
    "lenType": 16,
    "lenVar": 40
   },
   "kernels_config": {
    "python": {
     "delete_cmd_postfix": "",
     "delete_cmd_prefix": "del ",
     "library": "var_list.py",
     "varRefreshCmd": "print(var_dic_list())"
    },
    "r": {
     "delete_cmd_postfix": ") ",
     "delete_cmd_prefix": "rm(",
     "library": "var_list.r",
     "varRefreshCmd": "cat(var_dic_list()) "
    }
   },
   "types_to_exclude": [
    "module",
    "function",
    "builtin_function_or_method",
    "instance",
    "_Feature"
   ],
   "window_display": false
  }
 },
 "nbformat": 4,
 "nbformat_minor": 2
}
